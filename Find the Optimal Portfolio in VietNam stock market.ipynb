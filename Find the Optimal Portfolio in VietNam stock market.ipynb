{
 "cells": [
  {
   "cell_type": "code",
   "execution_count": 1,
   "metadata": {},
   "outputs": [],
   "source": [
    "# Import library and module\n",
    "import pandas as pd\n",
    "import numpy as np\n",
    "import requests\n",
    "from bs4 import BeautifulSoup\n",
    "import re\n",
    "from datetime import datetime\n",
    "import matplotlib.pyplot as plt\n",
    "from pypfopt import risk_models, expected_returns, plotting\n",
    "from pypfopt.efficient_frontier import EfficientFrontier\n",
    "from pypfopt.discrete_allocation import DiscreteAllocation, get_latest_prices"
   ]
  },
  {
   "cell_type": "markdown",
   "metadata": {},
   "source": [
    "Summary:\n",
    "1. Prepare historical asset price data by crawling data from cophieu68.vn\n",
    "2. Choosing time period and Summary DataFrame\n",
    "3. Visualize Portfolio Close Price History\n",
    "4. Calculate Covariance matrix, Portfolio Expected Return, Standard Deviation, Variance\n",
    "5. Find the optimal portfolio with Max Sharpe Ratio\n",
    "6. Portfolio allocation"
   ]
  },
  {
   "cell_type": "markdown",
   "metadata": {},
   "source": [
    "## 1. Prepare historical asset price data by crawling data from cophieu68.vn"
   ]
  },
  {
   "cell_type": "markdown",
   "metadata": {},
   "source": [
    "### Get list url from stocks list"
   ]
  },
  {
   "cell_type": "code",
   "execution_count": 2,
   "metadata": {},
   "outputs": [
    {
     "name": "stdout",
     "output_type": "stream",
     "text": [
      "Getting link:  KDC\n",
      "Getting link:  DHG\n",
      "Getting link:  VCB\n"
     ]
    }
   ],
   "source": [
    "base_url = 'https://www.cophieu68.vn/historyprice.php?currentPage='\n",
    "list_stock = ['KDC', 'DHG', 'VCB']        # insert stock name to get data\n",
    "nested_list=[]\n",
    "list_url = []\n",
    "\n",
    "for stock in range(0,len(list_stock)):\n",
    "    print('Getting link: ', list_stock[stock])\n",
    "    global nested_list\n",
    "    for page in range(1,100):\n",
    "        item = base_url + str(page) + '&id=' + str(list_stock[stock].lower())\n",
    "        nested_list.append(item)\n",
    "    list_url.append(nested_list)\n",
    "    nested_list=[]      # reset variable"
   ]
  },
  {
   "cell_type": "markdown",
   "metadata": {},
   "source": [
    "### Crawling historical close price from cophieu68.vn"
   ]
  },
  {
   "cell_type": "code",
   "execution_count": 3,
   "metadata": {},
   "outputs": [
    {
     "name": "stdout",
     "output_type": "stream",
     "text": [
      "Stock: KDC. Process: 1/3\n",
      "Stock: DHG. Process: 2/3\n",
      "Stock: VCB. Process: 3/3\n",
      "Finish\n"
     ]
    }
   ],
   "source": [
    "data = pd.DataFrame(columns= list_stock)\n",
    "close_price = []\n",
    "date_list = []\n",
    "\n",
    "for stock in range(0,len(list_stock)):                              # call 3 stock\n",
    "    print(f'Stock: {list_stock[stock]}. Process: {stock+1}/{len(list_stock)}')\n",
    "    global close_price\n",
    "    global date_list\n",
    "    for link in range(0,len(list_url[0])):                          # get all page of 1 stock\n",
    "        # print('Counter: ', link)\n",
    "        response = requests.get(list_url[stock][link])\n",
    "        soup = BeautifulSoup(response.text, 'html.parser')\n",
    "        table = soup.find_all('table')\n",
    "        tr_data =table[1].find_all('tr')\n",
    "        for row in tr_data[1:]:                                     # get all row of 1 page\n",
    "            td_list = row.find_all('td')\n",
    "            try:\n",
    "                close = td_list[5].text.strip()\n",
    "                close_price.append(close)\n",
    "                date = td_list[1].text.strip()\n",
    "                date_list.append(date)\n",
    "            except IndexError:\n",
    "                pass\n",
    "    data.iloc[:,stock] = pd.Series(close_price)\n",
    "    close_price = []\n",
    "\n",
    "data['date'] = pd.Series(date_list)\n",
    "data.set_index('date', inplace=True)\n",
    "data.index = pd.to_datetime(data.index, format='%d-%m-%Y')\n",
    "data = data.iloc[::-1] # reverse dataframe\n",
    "print('Finish')"
   ]
  },
  {
   "cell_type": "markdown",
   "metadata": {},
   "source": [
    "## 2. Choosing time period and Summary DataFrame"
   ]
  },
  {
   "cell_type": "code",
   "execution_count": 15,
   "metadata": {},
   "outputs": [
    {
     "name": "stdout",
     "output_type": "stream",
     "text": [
      "              KDC    DHG    VCB\n",
      "date                           \n",
      "2018-10-31  20.41  73.32  42.32\n",
      "2018-11-01  20.37  73.14  41.86\n",
      "2018-11-02  20.33  73.14  42.78\n",
      "2018-11-05  20.29  72.44  43.00\n",
      "2018-11-06  20.25  74.19  42.47\n",
      "...           ...    ...    ...\n",
      "2020-09-24  32.20  98.84  66.12\n",
      "2020-09-25  32.28  97.82  66.04\n",
      "2020-09-28  32.07  98.66  66.04\n",
      "2020-09-29  31.63  98.56  64.97\n",
      "2020-09-30  31.63  98.19  64.58\n",
      "\n",
      "[479 rows x 3 columns]\n",
      "<class 'pandas.core.frame.DataFrame'>\n",
      "DatetimeIndex: 479 entries, 2018-10-31 to 2020-09-30\n",
      "Data columns (total 3 columns):\n",
      " #   Column  Non-Null Count  Dtype  \n",
      "---  ------  --------------  -----  \n",
      " 0   KDC     479 non-null    float64\n",
      " 1   DHG     479 non-null    float64\n",
      " 2   VCB     479 non-null    float64\n",
      "dtypes: float64(3)\n",
      "memory usage: 15.0 KB\n",
      "None\n"
     ]
    }
   ],
   "source": [
    "for stock in data.columns:\n",
    "    data[stock] = pd.to_numeric(data[stock])\n",
    "\n",
    "# Choosing time period\n",
    "start = '31-10-2018'\n",
    "end = '30-9-2020'\n",
    "my_stocks = data.loc[start : end]\n",
    "print(my_stocks)\n",
    "print(my_stocks.info())"
   ]
  },
  {
   "cell_type": "markdown",
   "metadata": {},
   "source": [
    "## 3. Visualize Portfolio Close Price History"
   ]
  },
  {
   "cell_type": "code",
   "execution_count": 14,
   "metadata": {},
   "outputs": [
    {
     "data": {
      "image/png": "[encoded data removed]",
      "text/plain": [
       "<Figure size 432x288 with 1 Axes>"
      ]
     },
     "metadata": {
      "needs_background": "light"
     },
     "output_type": "display_data"
    }
   ],
   "source": [
    "title = 'Portfolio Close Price History'\n",
    "\n",
    "for c in my_stocks.columns:\n",
    "    plt.plot(my_stocks[c], label = c)\n",
    "plt.title(title, fontsize= 20)\n",
    "plt.xlabel('Date', fontsize = 10 )\n",
    "plt.ylabel('Thousand VND (vnđ)', fontsize = 10)\n",
    "plt.legend(my_stocks.columns, loc= 'upper left')\n",
    "plt.xticks(rotation=-50)\n",
    "plt.show()"
   ]
  },
  {
   "cell_type": "markdown",
   "metadata": {},
   "source": [
    "## 4. Calculate Covariance matrix"
   ]
  },
  {
   "cell_type": "code",
   "execution_count": 16,
   "metadata": {},
   "outputs": [
    {
     "data": {
      "text/html": [
       "<div>\n",
       "<style scoped>\n",
       "    .dataframe tbody tr th:only-of-type {\n",
       "        vertical-align: middle;\n",
       "    }\n",
       "\n",
       "    .dataframe tbody tr th {\n",
       "        vertical-align: top;\n",
       "    }\n",
       "\n",
       "    .dataframe thead th {\n",
       "        text-align: right;\n",
       "    }\n",
       "</style>\n",
       "<table border=\"1\" class=\"dataframe\">\n",
       "  <thead>\n",
       "    <tr style=\"text-align: right;\">\n",
       "      <th></th>\n",
       "      <th>KDC</th>\n",
       "      <th>DHG</th>\n",
       "      <th>VCB</th>\n",
       "    </tr>\n",
       "    <tr>\n",
       "      <th>date</th>\n",
       "      <th></th>\n",
       "      <th></th>\n",
       "      <th></th>\n",
       "    </tr>\n",
       "  </thead>\n",
       "  <tbody>\n",
       "    <tr>\n",
       "      <th>2018-11-01</th>\n",
       "      <td>-0.001960</td>\n",
       "      <td>-0.002455</td>\n",
       "      <td>-0.010870</td>\n",
       "    </tr>\n",
       "    <tr>\n",
       "      <th>2018-11-02</th>\n",
       "      <td>-0.001964</td>\n",
       "      <td>0.000000</td>\n",
       "      <td>0.021978</td>\n",
       "    </tr>\n",
       "    <tr>\n",
       "      <th>2018-11-05</th>\n",
       "      <td>-0.001968</td>\n",
       "      <td>-0.009571</td>\n",
       "      <td>0.005143</td>\n",
       "    </tr>\n",
       "    <tr>\n",
       "      <th>2018-11-06</th>\n",
       "      <td>-0.001971</td>\n",
       "      <td>0.024158</td>\n",
       "      <td>-0.012326</td>\n",
       "    </tr>\n",
       "    <tr>\n",
       "      <th>2018-11-07</th>\n",
       "      <td>-0.017284</td>\n",
       "      <td>-0.011727</td>\n",
       "      <td>-0.005416</td>\n",
       "    </tr>\n",
       "    <tr>\n",
       "      <th>...</th>\n",
       "      <td>...</td>\n",
       "      <td>...</td>\n",
       "      <td>...</td>\n",
       "    </tr>\n",
       "    <tr>\n",
       "      <th>2020-09-24</th>\n",
       "      <td>-0.001241</td>\n",
       "      <td>0.001824</td>\n",
       "      <td>0.008234</td>\n",
       "    </tr>\n",
       "    <tr>\n",
       "      <th>2020-09-25</th>\n",
       "      <td>0.002484</td>\n",
       "      <td>-0.010320</td>\n",
       "      <td>-0.001210</td>\n",
       "    </tr>\n",
       "    <tr>\n",
       "      <th>2020-09-28</th>\n",
       "      <td>-0.006506</td>\n",
       "      <td>0.008587</td>\n",
       "      <td>0.000000</td>\n",
       "    </tr>\n",
       "    <tr>\n",
       "      <th>2020-09-29</th>\n",
       "      <td>-0.013720</td>\n",
       "      <td>-0.001014</td>\n",
       "      <td>-0.016202</td>\n",
       "    </tr>\n",
       "    <tr>\n",
       "      <th>2020-09-30</th>\n",
       "      <td>0.000000</td>\n",
       "      <td>-0.003754</td>\n",
       "      <td>-0.006003</td>\n",
       "    </tr>\n",
       "  </tbody>\n",
       "</table>\n",
       "<p>478 rows × 3 columns</p>\n",
       "</div>"
      ],
      "text/plain": [
       "                 KDC       DHG       VCB\n",
       "date                                    \n",
       "2018-11-01 -0.001960 -0.002455 -0.010870\n",
       "2018-11-02 -0.001964  0.000000  0.021978\n",
       "2018-11-05 -0.001968 -0.009571  0.005143\n",
       "2018-11-06 -0.001971  0.024158 -0.012326\n",
       "2018-11-07 -0.017284 -0.011727 -0.005416\n",
       "...              ...       ...       ...\n",
       "2020-09-24 -0.001241  0.001824  0.008234\n",
       "2020-09-25  0.002484 -0.010320 -0.001210\n",
       "2020-09-28 -0.006506  0.008587  0.000000\n",
       "2020-09-29 -0.013720 -0.001014 -0.016202\n",
       "2020-09-30  0.000000 -0.003754 -0.006003\n",
       "\n",
       "[478 rows x 3 columns]"
      ]
     },
     "execution_count": 16,
     "metadata": {},
     "output_type": "execute_result"
    }
   ],
   "source": [
    "# Show the simple percentage daily return\n",
    "returns = my_stocks.pct_change().dropna()\n",
    "returns"
   ]
  },
  {
   "cell_type": "code",
   "execution_count": 17,
   "metadata": {},
   "outputs": [
    {
     "name": "stdout",
     "output_type": "stream",
     "text": [
      "          KDC       DHG       VCB\n",
      "KDC  0.108049  0.005830  0.020365\n",
      "DHG  0.005830  0.065388  0.016370\n",
      "VCB  0.020365  0.016370  0.072394\n"
     ]
    },
    {
     "data": {
      "text/plain": [
       "(array([0, 1, 2]), [Text(0, 0, 'KDC'), Text(0, 1, 'DHG'), Text(0, 2, 'VCB')])"
      ]
     },
     "execution_count": 17,
     "metadata": {},
     "output_type": "execute_result"
    },
    {
     "data": {
      "image/png": "[encoded data removed]",
      "text/plain": [
       "<Figure size 432x288 with 2 Axes>"
      ]
     },
     "metadata": {
      "needs_background": "light"
     },
     "output_type": "display_data"
    }
   ],
   "source": [
    "# create the annualized covariance matrix\n",
    "plt.style.use('seaborn-deep')\n",
    "cov_matrix_annual = returns.cov() * 252 # numbers of trading day\n",
    "print(cov_matrix_annual)\n",
    "plotting.plot_covariance(cov_matrix_annual,plot_correlation=True)\n",
    "plt.title('Covariance matrix', fontsize= 20)\n",
    "plt.xticks(rotation=0, fontsize=10)\n",
    "plt.yticks(fontsize=10)"
   ]
  },
  {
   "cell_type": "markdown",
   "metadata": {},
   "source": [
    "## 5. Calculate Portfolio Variance,  Standard Deviation,  Expected Return. <br> Find the optimal portfolio with Max Sharpe Ratio"
   ]
  },
  {
   "cell_type": "code",
   "execution_count": 21,
   "metadata": {},
   "outputs": [
    {
     "name": "stdout",
     "output_type": "stream",
     "text": [
      "OrderedDict([('KDC', 0.30783), ('DHG', 0.26353), ('VCB', 0.42864)])\n",
      "--------------------------------------------------------------------------------\n",
      "Portfolio Variance: 0.04\n",
      "Expected annual return: 23.1%\n",
      "Annual volatility: 19.5%\n",
      "Sharpe Ratio: 1.04\n",
      "(0.23082893395001014, 0.1951908166591286, 1.0420517595621097)\n"
     ]
    }
   ],
   "source": [
    "# Calculate the Porfolio Variance\n",
    "weights=np.array([1/3,1/3,1/3])\n",
    "port_var = np.dot(weights.T, np.dot(cov_matrix_annual,weights))\n",
    "percent_var = str(round(port_var, 2))\n",
    "\n",
    "# Average return of each stock\n",
    "mu = expected_returns.mean_historical_return(my_stocks)\n",
    "\n",
    "# Covariance matrix\n",
    "S = risk_models.sample_cov(my_stocks)\n",
    "\n",
    "# Optimize for max shape ratio\n",
    "risk_free_rate = 0.02743\n",
    "ef = EfficientFrontier(mu, S)\n",
    "weight = ef.max_sharpe(risk_free_rate=risk_free_rate)\n",
    "cleaned_weights = ef.clean_weights()\n",
    "\n",
    "print(cleaned_weights)\n",
    "print('-'*80)\n",
    "print('Portfolio Variance:', percent_var)\n",
    "print(ef.portfolio_performance(verbose = True, risk_free_rate=risk_free_rate))"
   ]
  },
  {
   "cell_type": "markdown",
   "metadata": {},
   "source": [
    "## 6. Portfolio Allocation"
   ]
  },
  {
   "cell_type": "code",
   "execution_count": 20,
   "metadata": {},
   "outputs": [
    {
     "name": "stdout",
     "output_type": "stream",
     "text": [
      "  Symbol Total Stock Proportion\n",
      "0    VCB         664        35%\n",
      "1    KDC         973        51%\n",
      "2    DHG         268        14%\n",
      "--------------------------------------------------------------------------------\n",
      "Fund remaining: 27970 vnđ\n"
     ]
    }
   ],
   "source": [
    "# Get the discrete allocation of each share per stock\n",
    "lastest_price = get_latest_prices(my_stocks)\n",
    "da = DiscreteAllocation(weight, lastest_price, total_portfolio_value = 100000)  # value = 100 000 000 vnđ\n",
    "allocation, leftover = da.greedy_portfolio()\n",
    "\n",
    "portfolio = pd.DataFrame(columns=['Symbol','Total Stock', 'Proportion'])\n",
    "for key, value in allocation.items():\n",
    "    portfolio = portfolio.append(pd.Series({\n",
    "        'Symbol' : key, \n",
    "        'Total Stock': value,\n",
    "        'Proportion' : str(round(value/sum(allocation.values())*100)) + '%'\n",
    "    }), ignore_index=True)\n",
    "\n",
    "print(portfolio)\n",
    "print('-'*80)\n",
    "print('Fund remaining: {:.0f} vnđ'.format(leftover*1000))"
   ]
  }
 ],
 "metadata": {
  "kernelspec": {
   "display_name": "Python 3.9.7 ('base')",
   "language": "python",
   "name": "python3"
  },
  "language_info": {
   "codemirror_mode": {
    "name": "ipython",
    "version": 3
   },
   "file_extension": ".py",
   "mimetype": "text/x-python",
   "name": "python",
   "nbconvert_exporter": "python",
   "pygments_lexer": "ipython3",
   "version": "3.9.7"
  },
  "orig_nbformat": 4,
  "vscode": {
   "interpreter": {
    "hash": "2f155fbeb9494e5ce992090b8427abe3542dae7719d8ea0d05cb0b78608edd18"
   }
  }
 },
 "nbformat": 4,
 "nbformat_minor": 2
}
